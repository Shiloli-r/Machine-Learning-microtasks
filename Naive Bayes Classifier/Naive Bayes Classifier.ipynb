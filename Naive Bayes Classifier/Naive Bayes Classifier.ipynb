{
 "cells": [
  {
   "cell_type": "markdown",
   "id": "ce6f3feb",
   "metadata": {},
   "source": [
    "# Naive Bayes Classifier Using the Pima Diabetes Dataset"
   ]
  },
  {
   "cell_type": "code",
   "execution_count": 1,
   "id": "cc17df1a",
   "metadata": {},
   "outputs": [],
   "source": [
    "import numpy as np\n",
    "import math\n",
    "import random"
   ]
  },
  {
   "cell_type": "code",
   "execution_count": 8,
   "id": "123a609f",
   "metadata": {},
   "outputs": [],
   "source": [
    "def loadData(filename):\n",
    "    \"\"\"Function to load the dataset\"\"\"\n",
    "    lines = np.genfromtxt(filename)\n",
    "    dataset = list(lines)\n",
    "    print(len(dataset))\n",
    "    print(dataset)\n",
    "    return dataset\n",
    "    "
   ]
  },
  {
   "cell_type": "code",
   "execution_count": 23,
   "id": "b9ffce23",
   "metadata": {
    "scrolled": true
   },
   "outputs": [],
   "source": [
    "def splitData(dataset, splitRatio):\n",
    "    \"\"\"\n",
    "    A function to split the dataset into training and testing data\n",
    "   The data is split randomly based on the splitRatio\n",
    "   Data is moved to the training set randomly, whatever is left is the test set\n",
    "   Return: trainset and testing set\n",
    "  \"\"\"\n",
    "    trainSize = int(len(dataset) * splitRatio)\n",
    "    trainSet = []\n",
    "    testSet = list(dataset)\n",
    "    while len(trainSet) < trainSize:\n",
    "        index = random.randrange(len(testSet))\n",
    "        trainset.append(testSet.pop(index))\n",
    "    return [trainSet, testSet]"
   ]
  },
  {
   "cell_type": "code",
   "execution_count": null,
   "id": "f0119fd8",
   "metadata": {},
   "outputs": [],
   "source": []
  }
 ],
 "metadata": {
  "kernelspec": {
   "display_name": "Python 3",
   "language": "python",
   "name": "python3"
  },
  "language_info": {
   "codemirror_mode": {
    "name": "ipython",
    "version": 3
   },
   "file_extension": ".py",
   "mimetype": "text/x-python",
   "name": "python",
   "nbconvert_exporter": "python",
   "pygments_lexer": "ipython3",
   "version": "3.8.7"
  }
 },
 "nbformat": 4,
 "nbformat_minor": 5
}
