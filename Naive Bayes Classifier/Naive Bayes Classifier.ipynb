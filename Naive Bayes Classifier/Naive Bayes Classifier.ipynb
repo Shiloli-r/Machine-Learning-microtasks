{
 "cells": [
  {
   "cell_type": "markdown",
   "id": "ce6f3feb",
   "metadata": {},
   "source": [
    "# Naive Bayes Classifier Using the Pima Diabetes Dataset"
   ]
  },
  {
   "cell_type": "code",
   "execution_count": 1,
   "id": "cc17df1a",
   "metadata": {},
   "outputs": [],
   "source": [
    "import numpy as np\n",
    "import math\n",
    "import random"
   ]
  },
  {
   "cell_type": "code",
   "execution_count": 8,
   "id": "123a609f",
   "metadata": {},
   "outputs": [],
   "source": [
    "def loadData(filename):\n",
    "    \"\"\"Function to load the dataset\"\"\"\n",
    "    lines = np.genfromtxt(filename)\n",
    "    dataset = list(lines)\n",
    "    print(len(dataset))\n",
    "    print(dataset)\n",
    "    return dataset\n",
    "    "
   ]
  },
  {
   "cell_type": "code",
   "execution_count": 23,
   "id": "b9ffce23",
   "metadata": {
    "scrolled": true
   },
   "outputs": [],
   "source": [
    "def splitData(dataset, splitRatio):\n",
    "    \"\"\"\n",
    "    A function to split the dataset into training and testing data\n",
    "   The data is split randomly based on the splitRatio\n",
    "   Data is moved to the training set randomly, whatever is left is the test set\n",
    "   Return: trainset and testing set\n",
    "  \"\"\"\n",
    "    trainSize = int(len(dataset) * splitRatio)\n",
    "    trainSet = []\n",
    "    testSet = list(dataset)\n",
    "    while len(trainSet) < trainSize:\n",
    "        index = random.randrange(len(testSet))\n",
    "        trainset.append(testSet.pop(index))\n",
    "    return [trainSet, testSet]"
   ]
  },
  {
   "cell_type": "markdown",
   "id": "53cbf852",
   "metadata": {},
   "source": [
    "Exploratory Data Analysis (Separation by class, Calculating Mean, Std Deviation, Summarizing attributes by class)"
   ]
  },
  {
   "cell_type": "code",
   "execution_count": 1,
   "id": "e93acc0e",
   "metadata": {},
   "outputs": [],
   "source": [
    "def separateByClass(dataset):\n",
    "    \"\"\"Separates the dataset by class, to enable calculation of attributes for each class\n",
    "        Assumes that the last attribute is the class value\n",
    "        returns a map of class value to the list of data instances\n",
    "    \"\"\"\n",
    "    separate = {}\n",
    "    for i in range(len(dataset)):\n",
    "        vector = dataset[i]\n",
    "        if (vector[-1] not in separated):\n",
    "            separated[vector[-1]] = []\n",
    "        return separated"
   ]
  },
  {
   "cell_type": "code",
   "execution_count": 2,
   "id": "292aeb1d",
   "metadata": {},
   "outputs": [],
   "source": [
    "def mean(numbers):\n",
    "    \"\"\"Function for calculating mean\"\"\"\n",
    "    return sum(numbers)/float(len(numbers))"
   ]
  },
  {
   "cell_type": "code",
   "execution_count": 3,
   "id": "9f7f1301",
   "metadata": {},
   "outputs": [],
   "source": [
    "def stdev(numbers):\n",
    "    \"\"\"Function for calculating the Standard Deviation\"\"\"\n",
    "    avg = mean(numbers)\n",
    "    variance = sum([pow(x-avg, 2) for x in numbers])/float(len(numbers)-1)\n",
    "    return math.sqrt(variance)"
   ]
  },
  {
   "cell_type": "code",
   "execution_count": 5,
   "id": "802203a2",
   "metadata": {},
   "outputs": [],
   "source": [
    "def summarize(dataset):\n",
    "    \"\"\"Summarizes attributes by class\n",
    "        Calculates mean and std deviation for each attribute\n",
    "    \"\"\"\n",
    "    summaries = [(mean(attribute), stdev(attribute)) for attribute in zip(*dataset)]\n",
    "    del summaries[-1]\n",
    "    return summaries"
   ]
  },
  {
   "cell_type": "code",
   "execution_count": 6,
   "id": "be1d4753",
   "metadata": {},
   "outputs": [],
   "source": [
    "def summarizeByClass(dataset):\n",
    "    separated = separateByClass(dataset)\n",
    "    summaries = {}\n",
    "    for classValue, instances in separated.items():\n",
    "        summaries[classValue] = summarize(instances)\n",
    "    return summaries"
   ]
  },
  {
   "cell_type": "code",
   "execution_count": 9,
   "id": "e9d6f953",
   "metadata": {},
   "outputs": [],
   "source": [
    "def calculateProbability(x, mean, stdev):\n",
    "    \"\"\"Function to calculate probability\"\"\"\n",
    "    exponent = math.exp(-(math.pow(x-mean, 2)/(2*math.pow(stdev,2))))\n",
    "    return (1/(math.sqrt(2*math.pi)*stdev))*exponent"
   ]
  },
  {
   "cell_type": "code",
   "execution_count": null,
   "id": "b4ab02df",
   "metadata": {},
   "outputs": [],
   "source": []
  }
 ],
 "metadata": {
  "kernelspec": {
   "display_name": "Python 3",
   "language": "python",
   "name": "python3"
  },
  "language_info": {
   "codemirror_mode": {
    "name": "ipython",
    "version": 3
   },
   "file_extension": ".py",
   "mimetype": "text/x-python",
   "name": "python",
   "nbconvert_exporter": "python",
   "pygments_lexer": "ipython3",
   "version": "3.8.7"
  }
 },
 "nbformat": 4,
 "nbformat_minor": 5
}
