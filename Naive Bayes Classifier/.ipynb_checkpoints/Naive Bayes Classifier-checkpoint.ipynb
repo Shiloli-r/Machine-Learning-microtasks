{
 "cells": [
  {
   "cell_type": "markdown",
   "id": "ce6f3feb",
   "metadata": {},
   "source": [
    "# Naive Bayes Classifier Using the Pima Diabetes Dataset"
   ]
  },
  {
   "cell_type": "code",
   "execution_count": 132,
   "id": "cc17df1a",
   "metadata": {},
   "outputs": [],
   "source": [
    "import numpy as np\n",
    "import math\n",
    "import random"
   ]
  },
  {
   "cell_type": "code",
   "execution_count": 133,
   "id": "123a609f",
   "metadata": {},
   "outputs": [],
   "source": [
    "def loadData(filename):\n",
    "    \"\"\"Function to load the dataset\"\"\"\n",
    "    lines = np.loadtxt(\"pimadiabetes.txt\", delimiter=\" \")\n",
    "    dataset = list(lines)\n",
    "    for i in range(len(dataset)):\n",
    "        dataset[i] = [float(x) for x in dataset[i]]\n",
    "    return dataset"
   ]
  },
  {
   "cell_type": "code",
   "execution_count": 119,
   "id": "b9ffce23",
   "metadata": {
    "scrolled": true
   },
   "outputs": [],
   "source": [
    "def splitData(dataset, splitRatio):\n",
    "    \"\"\"\n",
    "    A function to split the dataset into training and testing data\n",
    "   The data is split randomly based on the splitRatio\n",
    "   Data is moved to the training set randomly, whatever is left is the test set\n",
    "   Return: trainset and testing set\n",
    "  \"\"\"\n",
    "    trainSize = int(len(dataset) * splitRatio)\n",
    "    trainSet = []\n",
    "    testSet = list(dataset)\n",
    "    while len(trainSet) < trainSize:\n",
    "        index = random.randrange(len(testSet))\n",
    "        trainSet.append(testSet.pop(index))\n",
    "    return [trainSet, testSet]"
   ]
  },
  {
   "cell_type": "markdown",
   "id": "80eabef9",
   "metadata": {},
   "source": [
    "Exploratory Data Analysis (Separation by class, Calculating Mean, Std Deviation, Summarizing attributes by class)"
   ]
  },
  {
   "cell_type": "code",
   "execution_count": 120,
   "id": "cce3b97e",
   "metadata": {},
   "outputs": [],
   "source": [
    "def separateByClass(dataset):\n",
    "    \"\"\"Separates the dataset by class, to enable calculation of attributes for each class\n",
    "        Assumes that the last attribute is the class value\n",
    "        returns a map of class value to the list of data instances\n",
    "    \"\"\"\n",
    "    separated = {}\n",
    "    for i in range(len(dataset)):\n",
    "        vector = dataset[i]\n",
    "        if (vector[-1] not in separated):\n",
    "            separated[vector[-1]] = []\n",
    "        separated[vector[-1]].append(vector)\n",
    "        return separated"
   ]
  },
  {
   "cell_type": "code",
   "execution_count": 121,
   "id": "f0a1623d",
   "metadata": {},
   "outputs": [],
   "source": [
    "def mean(numbers):\n",
    "    \"\"\"Function for calculating mean\"\"\"\n",
    "    return sum(numbers)/float(len(numbers))"
   ]
  },
  {
   "cell_type": "code",
   "execution_count": 137,
   "id": "fc176235",
   "metadata": {},
   "outputs": [],
   "source": [
    "def stdev(numbers):\n",
    "    \"\"\"Function for calculating the Standard Deviation\"\"\"\n",
    "    avg = mean(numbers)\n",
    "    print(\"*************\", numbers)\n",
    "    print(\"Average ============== \", avg , \" ===================\")\n",
    "    variance = sum([pow(x-avg, 2) for x in numbers])/float(len(numbers)-1)\n",
    "    return math.sqrt(variance)"
   ]
  },
  {
   "cell_type": "code",
   "execution_count": 123,
   "id": "81e03196",
   "metadata": {},
   "outputs": [],
   "source": [
    "def summarize(dataset):\n",
    "    \"\"\"Summarizes attributes by class\n",
    "        Calculates mean and std deviation for each attribute\n",
    "    \"\"\"\n",
    "    summaries = [(mean(attribute), stdev(attribute)) for attribute in zip(*dataset)]\n",
    "    del summaries[-1]\n",
    "    return summaries"
   ]
  },
  {
   "cell_type": "code",
   "execution_count": 124,
   "id": "3872827d",
   "metadata": {},
   "outputs": [],
   "source": [
    "def summarizeByClass(dataset):\n",
    "    separated = separateByClass(dataset)\n",
    "    summaries = {}\n",
    "    for classValue, instances in separated.items():\n",
    "        summaries[classValue] = summarize(instances)\n",
    "    return summaries"
   ]
  },
  {
   "cell_type": "code",
   "execution_count": 125,
   "id": "b5a9da66",
   "metadata": {},
   "outputs": [],
   "source": [
    "def calculateProbability(x, mean, stdev):\n",
    "    \"\"\"Function to calculate probability\"\"\"\n",
    "    exponent = math.exp(-(math.pow(x-mean, 2)/(2*math.pow(stdev,2))))\n",
    "    return (1/(math.sqrt(2*math.pi)*stdev))*exponent"
   ]
  },
  {
   "cell_type": "code",
   "execution_count": 126,
   "id": "bd24e8d1",
   "metadata": {},
   "outputs": [],
   "source": [
    "def calculateClassProbabilities(summaries, inputVector):\n",
    "    probabilities = {}\n",
    "    for classValue, classSummaries in summaries.items():\n",
    "        probabilities[classValue] = 1\n",
    "        for i in range(len(classSummaries)):\n",
    "            mean,stdev = classSummaries[i]\n",
    "            x = inputVector[i]\n",
    "            probabilities[classValues] *= calculateProbability(x, mean, stdev)\n",
    "        return probabilities"
   ]
  },
  {
   "cell_type": "markdown",
   "id": "302779cd",
   "metadata": {},
   "source": [
    "# Make prediction"
   ]
  },
  {
   "cell_type": "code",
   "execution_count": 127,
   "id": "70fe416d",
   "metadata": {},
   "outputs": [],
   "source": [
    "def predict(summaries, inputVector):\n",
    "    \"\"\"Function to make a prediction\"\"\"\n",
    "    probabilities = calculateClassProbabilities(summaries, inputVector)\n",
    "    bestLabel, bestProb = None, -1\n",
    "    for classValue, probability in probabilities.items():\n",
    "        if bestLabel is None or probability > bestProb:\n",
    "            bestProb = probability\n",
    "            bestLabel = classValue\n",
    "    return bestLabel"
   ]
  },
  {
   "cell_type": "markdown",
   "id": "8308465f",
   "metadata": {},
   "source": [
    "# Accuracy of the prediction"
   ]
  },
  {
   "cell_type": "code",
   "execution_count": 128,
   "id": "76010e1b",
   "metadata": {},
   "outputs": [],
   "source": [
    "def getPredictions(summaries, testSet):\n",
    "    predictions = []\n",
    "    for i in range(len(testSet)):\n",
    "        result = predict(summaries, testSet[1])\n",
    "        predictions.append(result)\n",
    "    return predictions"
   ]
  },
  {
   "cell_type": "code",
   "execution_count": 129,
   "id": "d981903f",
   "metadata": {},
   "outputs": [],
   "source": [
    "def getAccuracy(testSet, Predictions):\n",
    "    \"\"\"Calculates the accuracy of the prediction\"\"\"\n",
    "    correct = 0\n",
    "    for x in range(len(testSet)):\n",
    "        if testSet[x][-1] == predictions[x]:\n",
    "            correct += 1\n",
    "    return (correct/float(len(testSet))) * 100.0"
   ]
  },
  {
   "cell_type": "markdown",
   "id": "d6eef9df",
   "metadata": {},
   "source": [
    "# Main Function"
   ]
  },
  {
   "cell_type": "markdown",
   "id": "276176d3",
   "metadata": {},
   "source": [
    "Makes use of the functions created above"
   ]
  },
  {
   "cell_type": "code",
   "execution_count": 130,
   "id": "2fcd302f",
   "metadata": {},
   "outputs": [],
   "source": [
    "def main():\n",
    "    filename = \"pimadiabetes.txt\"\n",
    "    splitRatio = 0.67\n",
    "    dataset = loadData(filename)\n",
    "    trainSet, testSet = splitData(dataset, splitRatio)\n",
    "    print(\"split {0} rows into train = 1 and test = {2} rows\".format(len(dataset), len(trainSet), len(testSet)))\n",
    "    \n",
    "    # prepare the model\n",
    "    summaries = summarizeByClass(trainSet)\n",
    "    \n",
    "    # test the model\n",
    "    predictions = getPredictions(summaries, testSet)\n",
    "    accuracy = getAccuracy(testSet, predictions)\n",
    "    \n",
    "    # print the Accuracy\n",
    "    print(\"Accuracy: {0}%\".format(accuracy))"
   ]
  },
  {
   "cell_type": "code",
   "execution_count": null,
   "id": "863d12fb",
   "metadata": {},
   "outputs": [],
   "source": [
    "main()"
   ]
  }
 ],
 "metadata": {
  "kernelspec": {
   "display_name": "Python 3",
   "language": "python",
   "name": "python3"
  },
  "language_info": {
   "codemirror_mode": {
    "name": "ipython",
    "version": 3
   },
   "file_extension": ".py",
   "mimetype": "text/x-python",
   "name": "python",
   "nbconvert_exporter": "python",
   "pygments_lexer": "ipython3",
   "version": "3.8.7"
  }
 },
 "nbformat": 4,
 "nbformat_minor": 5
}
